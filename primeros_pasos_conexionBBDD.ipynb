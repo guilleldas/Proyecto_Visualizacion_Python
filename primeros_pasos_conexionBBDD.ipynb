{
 "cells": [
  {
   "cell_type": "markdown",
   "id": "50b03681",
   "metadata": {},
   "source": [
    "# Proyecto SQL & Python"
   ]
  },
  {
   "cell_type": "markdown",
   "id": "c48bfef5",
   "metadata": {},
   "source": [
    "### Instalo el conector de bases de datos MySQL - Python"
   ]
  },
  {
   "cell_type": "code",
   "execution_count": 3,
   "id": "a36aab26",
   "metadata": {
    "scrolled": true
   },
   "outputs": [
    {
     "name": "stdout",
     "output_type": "stream",
     "text": [
      "Collecting mysql-connector-python\n",
      "  Obtaining dependency information for mysql-connector-python from https://files.pythonhosted.org/packages/a7/84/b63f11124f808b6f1e3389072bc36cc907929d7574e85f94bf8f18117fe4/mysql_connector_python-8.2.0-cp311-cp311-win_amd64.whl.metadata\n",
      "  Downloading mysql_connector_python-8.2.0-cp311-cp311-win_amd64.whl.metadata (2.1 kB)\n",
      "Collecting protobuf<=4.21.12,>=4.21.1 (from mysql-connector-python)\n",
      "  Downloading protobuf-4.21.12-cp310-abi3-win_amd64.whl (527 kB)\n",
      "     ---------------------------------------- 0.0/527.0 kB ? eta -:--:--\n",
      "      --------------------------------------- 10.2/527.0 kB ? eta -:--:--\n",
      "     ---- ---------------------------------- 61.4/527.0 kB 1.1 MB/s eta 0:00:01\n",
      "     ----------------------------------- -- 491.5/527.0 kB 4.4 MB/s eta 0:00:01\n",
      "     -------------------------------------- 527.0/527.0 kB 3.7 MB/s eta 0:00:00\n",
      "Downloading mysql_connector_python-8.2.0-cp311-cp311-win_amd64.whl (14.2 MB)\n",
      "   ---------------------------------------- 0.0/14.2 MB ? eta -:--:--\n",
      "   ------ --------------------------------- 2.3/14.2 MB 75.3 MB/s eta 0:00:01\n",
      "   ------------------- -------------------- 6.8/14.2 MB 87.0 MB/s eta 0:00:01\n",
      "   ----------------------- ---------------- 8.4/14.2 MB 66.8 MB/s eta 0:00:01\n",
      "   ----------------------------------- ---- 12.6/14.2 MB 72.6 MB/s eta 0:00:01\n",
      "   ---------------------------------------  14.2/14.2 MB 65.6 MB/s eta 0:00:01\n",
      "   ---------------------------------------- 14.2/14.2 MB 50.3 MB/s eta 0:00:00\n",
      "Installing collected packages: protobuf, mysql-connector-python\n",
      "Successfully installed mysql-connector-python-8.2.0 protobuf-4.21.12\n"
     ]
    }
   ],
   "source": [
    "!pip install mysql-connector-python"
   ]
  },
  {
   "cell_type": "markdown",
   "id": "e102e005",
   "metadata": {},
   "source": [
    "### Importo Pandas, Matplotlib y MySQL Connector.\n",
    "Además, creo en una variable 'estadios', con el conector, indicando host, user, constrasena y base de datos."
   ]
  },
  {
   "cell_type": "code",
   "execution_count": 7,
   "id": "cc79c208",
   "metadata": {},
   "outputs": [],
   "source": [
    "import pandas as pd\n",
    "import matplotlib as plt\n",
    "\n",
    "import mysql.connector\n",
    "\n",
    "estadios = mysql.connector.connect(host=\"localhost\", user=\"root\", passwd=\"julieta2809\",database=\"estadios\")\n"
   ]
  },
  {
   "cell_type": "markdown",
   "id": "edbd3d83",
   "metadata": {},
   "source": [
    "### Chequeo que la conexión haya quedado bien. "
   ]
  },
  {
   "cell_type": "code",
   "execution_count": 8,
   "id": "06853da0",
   "metadata": {
    "scrolled": true
   },
   "outputs": [
    {
     "name": "stdout",
     "output_type": "stream",
     "text": [
      "Conexión establecida correctamente.\n"
     ]
    }
   ],
   "source": [
    "if estadios.is_connected():\n",
    "    print(\"Conexión establecida correctamente.\")\n",
    "else:\n",
    "    print(\"Problemas con la conexión.\")"
   ]
  },
  {
   "cell_type": "markdown",
   "id": "3a20a04c",
   "metadata": {},
   "source": [
    "### Creo el cursor, y muestro las bases de datos."
   ]
  },
  {
   "cell_type": "code",
   "execution_count": 9,
   "id": "38e5ebda",
   "metadata": {},
   "outputs": [],
   "source": [
    "cursor = estadios.cursor()"
   ]
  },
  {
   "cell_type": "code",
   "execution_count": 10,
   "id": "85885e8b",
   "metadata": {},
   "outputs": [],
   "source": [
    "cursor.execute(\"show databases\")"
   ]
  },
  {
   "cell_type": "code",
   "execution_count": 11,
   "id": "d7a7ca2e",
   "metadata": {
    "scrolled": true
   },
   "outputs": [
    {
     "name": "stdout",
     "output_type": "stream",
     "text": [
      "('classicmodels',)\n",
      "('estadios',)\n",
      "('information_schema',)\n",
      "('ligaargentina',)\n",
      "('mundial2022',)\n",
      "('mysql',)\n",
      "('performance_schema',)\n",
      "('sys',)\n",
      "('topscorers',)\n"
     ]
    }
   ],
   "source": [
    "for i in cursor:\n",
    "    print(i)"
   ]
  },
  {
   "cell_type": "markdown",
   "id": "5fd3cce4",
   "metadata": {},
   "source": [
    "### Hago la primera query a forma de prueba."
   ]
  },
  {
   "cell_type": "code",
   "execution_count": 12,
   "id": "a61f25c0",
   "metadata": {},
   "outputs": [
    {
     "name": "stdout",
     "output_type": "stream",
     "text": [
      "('CONCACAF', 'BC Place', 'Vancouver', 'Whitecaps, Lions', 52465, 'Canada', 'CAN', 37067011)\n",
      "('CONCACAF', 'BMO Field', 'Toronto', 'Toronto FC', 30991, 'Canada', 'CAN', 37067011)\n",
      "('CONCACAF', 'Commonwealth Stadium', 'Edmonton', 'Eskimos', 56302, 'Canada', 'CAN', 37067011)\n",
      "('CONCACAF', 'Investors Group Field', 'Winnipeg', 'Blue Bombers', 33422, 'Canada', 'CAN', 37067011)\n",
      "('CONCACAF', 'Lamport Stadium', 'Toronto', 'Serbian White Eagles', 9600, 'Canada', 'CAN', 37067011)\n",
      "('CONCACAF', 'McMahon Stadium', 'Calgary', 'Stampeders, Dinos', 35650, 'Canada', 'CAN', 37067011)\n",
      "('CONCACAF', 'Mosaic Stadium', 'Regina', 'Roughriders', 33000, 'Canada', 'CAN', 37067011)\n",
      "('CONCACAF', 'Olympic Stadium', 'Montreal', 'Alouettes', 66308, 'Canada', 'CAN', 37067011)\n",
      "('CONCACAF', 'Percival Molson Stadium', 'Montreal', 'Alouettes', 25012, 'Canada', 'CAN', 37067011)\n",
      "('CONCACAF', 'Rogers Centre', 'Toronto', 'Argonauts', 54000, 'Canada', 'CAN', 37067011)\n",
      "('CONCACAF', 'Stade Saputo', 'Montreal', 'Impact', 20801, 'Canada', 'CAN', 37067011)\n",
      "('CONCACAF', 'Taylor Field', 'Regina', 'None', 30945, 'Canada', 'CAN', 37067011)\n",
      "('CONCACAF', 'TD Place Stadium', 'Ottawa', 'Redblacks, Fury', 24000, 'Canada', 'CAN', 37067011)\n",
      "('CONCACAF', 'Tim Hortons Field', 'Hamilton', 'Tiger-Cats', 24000, 'Canada', 'CAN', 37067011)\n"
     ]
    }
   ],
   "source": [
    "cursor.execute(\"select * from estadios_tres_confederaciones WHERE country = 'Canada'\")\n",
    "\n",
    "for i in cursor:\n",
    "    print(i)"
   ]
  },
  {
   "cell_type": "markdown",
   "id": "0d8b38fe",
   "metadata": {},
   "source": [
    "### Realizo una nueva consulta, donde filtro los estadios pertenecientes a la confederación 'CONMEBOL' y sean de Argentina. Además creo la variable estadios_conmebol_argentina utilizando el método fetchall."
   ]
  },
  {
   "cell_type": "code",
   "execution_count": 14,
   "id": "34a026b2",
   "metadata": {},
   "outputs": [
    {
     "name": "stdout",
     "output_type": "stream",
     "text": [
      "('CONMEBOL', 'El Cementario de los Elefantes', 'Santa Fe', 'Colón', 32000, 'Argentina', 'ARG', 43847430)\n",
      "('CONMEBOL', 'El Gigante de Arroyito', 'Rosario', 'Rosario Central', 41654, 'Argentina', 'ARG', 43847430)\n",
      "('CONMEBOL', 'El Monumental', 'Buenos Aires', 'River Plate', 61321, 'Argentina', 'ARG', 43847430)\n",
      "('CONMEBOL', 'El Nuevo Gasómetro', 'Buenos Aires', 'San Lorenzo', 43494, 'Argentina', 'ARG', 43847430)\n",
      "('CONMEBOL', 'Estadio Arquitecto Antonio Etcheverri', 'Buenos Aires', 'Club Ferro Caril Oeste', 22797, 'Argentina', 'ARG', 43847430)\n",
      "('CONMEBOL', 'Estadio Ciudad de La Plata', 'La Plata', 'Estudiantes, Gimnasia', 53000, 'Argentina', 'ARG', 43847430)\n",
      "('CONMEBOL', 'Estadio del Viaducto', 'Sarandí', 'Arsenal FC', 16300, 'Argentina', 'ARG', 43847430)\n",
      "('CONMEBOL', 'Estadio Diego Armando Maradona', 'Buenos Aires', 'AA Argentinos Juniors', 24800, 'Argentina', 'ARG', 43847430)\n",
      "('CONMEBOL', 'Estadio José Amalfitani', 'Buenos Aires', 'Vélez Sarsfield', 49540, 'Argentina', 'ARG', 43847430)\n",
      "('CONMEBOL', 'Estadio Libertadores de America', 'Avellaneda', 'Independiente', 48069, 'Argentina', 'ARG', 43847430)\n",
      "('CONMEBOL', 'Estadio Malvinas Argentinas', 'Mendoza', 'None', 40268, 'Argentina', 'ARG', 43847430)\n",
      "('CONMEBOL', 'Estadio Marcelo Bielsa', 'Rosario', \"Newell's Old Boys\", 42000, 'Argentina', 'ARG', 43847430)\n",
      "('CONMEBOL', 'Estadio Mario Alberto Kempes', 'Cordoba', 'None', 57000, 'Argentina', 'ARG', 43847430)\n",
      "('CONMEBOL', 'Estadio Néstor Díaz Pérez', 'Lanús', 'CA Lanús', 46519, 'Argentina', 'ARG', 43847430)\n",
      "('CONMEBOL', 'Estadio Presidente Perón', 'Avellaneda', 'Racing Club', 42500, 'Argentina', 'ARG', 43847430)\n",
      "('CONMEBOL', 'Estadio Tomás Adolfo Ducó', 'Buenos Aires', 'Huracán', 48314, 'Argentina', 'ARG', 43847430)\n",
      "('CONMEBOL', 'Estadio Único', 'Villa Mercedes', 'None', 28000, 'Argentina', 'ARG', 43847430)\n",
      "('CONMEBOL', 'La Bombonera', 'Buenos Aires', 'Boca Juniors', 49000, 'Argentina', 'ARG', 43847430)\n"
     ]
    }
   ],
   "source": [
    "cursor.execute(\"SELECT * FROM estadios_tres_confederaciones WHERE confederation = 'CONMEBOL'and country = 'Argentina'\")\n",
    "\n",
    "estadios_conmebol_argentina = cursor.fetchall()\n",
    "\n",
    "for i in estadios_conmebol_argentina:\n",
    "    print (i)"
   ]
  },
  {
   "cell_type": "markdown",
   "id": "b4b0cf36",
   "metadata": {},
   "source": [
    "### Hago la prueba de imprimir la variable creada anteriormente."
   ]
  },
  {
   "cell_type": "code",
   "execution_count": 15,
   "id": "55eced39",
   "metadata": {
    "scrolled": true
   },
   "outputs": [
    {
     "name": "stdout",
     "output_type": "stream",
     "text": [
      "[('CONMEBOL', 'El Cementario de los Elefantes', 'Santa Fe', 'Colón', 32000, 'Argentina', 'ARG', 43847430), ('CONMEBOL', 'El Gigante de Arroyito', 'Rosario', 'Rosario Central', 41654, 'Argentina', 'ARG', 43847430), ('CONMEBOL', 'El Monumental', 'Buenos Aires', 'River Plate', 61321, 'Argentina', 'ARG', 43847430), ('CONMEBOL', 'El Nuevo Gasómetro', 'Buenos Aires', 'San Lorenzo', 43494, 'Argentina', 'ARG', 43847430), ('CONMEBOL', 'Estadio Arquitecto Antonio Etcheverri', 'Buenos Aires', 'Club Ferro Caril Oeste', 22797, 'Argentina', 'ARG', 43847430), ('CONMEBOL', 'Estadio Ciudad de La Plata', 'La Plata', 'Estudiantes, Gimnasia', 53000, 'Argentina', 'ARG', 43847430), ('CONMEBOL', 'Estadio del Viaducto', 'Sarandí', 'Arsenal FC', 16300, 'Argentina', 'ARG', 43847430), ('CONMEBOL', 'Estadio Diego Armando Maradona', 'Buenos Aires', 'AA Argentinos Juniors', 24800, 'Argentina', 'ARG', 43847430), ('CONMEBOL', 'Estadio José Amalfitani', 'Buenos Aires', 'Vélez Sarsfield', 49540, 'Argentina', 'ARG', 43847430), ('CONMEBOL', 'Estadio Libertadores de America', 'Avellaneda', 'Independiente', 48069, 'Argentina', 'ARG', 43847430), ('CONMEBOL', 'Estadio Malvinas Argentinas', 'Mendoza', 'None', 40268, 'Argentina', 'ARG', 43847430), ('CONMEBOL', 'Estadio Marcelo Bielsa', 'Rosario', \"Newell's Old Boys\", 42000, 'Argentina', 'ARG', 43847430), ('CONMEBOL', 'Estadio Mario Alberto Kempes', 'Cordoba', 'None', 57000, 'Argentina', 'ARG', 43847430), ('CONMEBOL', 'Estadio Néstor Díaz Pérez', 'Lanús', 'CA Lanús', 46519, 'Argentina', 'ARG', 43847430), ('CONMEBOL', 'Estadio Presidente Perón', 'Avellaneda', 'Racing Club', 42500, 'Argentina', 'ARG', 43847430), ('CONMEBOL', 'Estadio Tomás Adolfo Ducó', 'Buenos Aires', 'Huracán', 48314, 'Argentina', 'ARG', 43847430), ('CONMEBOL', 'Estadio Único', 'Villa Mercedes', 'None', 28000, 'Argentina', 'ARG', 43847430), ('CONMEBOL', 'La Bombonera', 'Buenos Aires', 'Boca Juniors', 49000, 'Argentina', 'ARG', 43847430)]\n"
     ]
    }
   ],
   "source": [
    "print (estadios_conmebol_argentina)"
   ]
  },
  {
   "cell_type": "markdown",
   "id": "c18b49c0",
   "metadata": {},
   "source": [
    "### Utilizando Pandas, creo un data frame donde convierto las información que obtuve anterior mente (una lista de tuplas) en una tabla."
   ]
  },
  {
   "cell_type": "code",
   "execution_count": 16,
   "id": "013f8c0a",
   "metadata": {},
   "outputs": [],
   "source": [
    "df = pd.DataFrame(estadios_conmebol_argentina, columns=[i[0] for i in cursor.description])"
   ]
  },
  {
   "cell_type": "code",
   "execution_count": 17,
   "id": "8e9637d9",
   "metadata": {},
   "outputs": [
    {
     "data": {
      "text/html": [
       "<div>\n",
       "<style scoped>\n",
       "    .dataframe tbody tr th:only-of-type {\n",
       "        vertical-align: middle;\n",
       "    }\n",
       "\n",
       "    .dataframe tbody tr th {\n",
       "        vertical-align: top;\n",
       "    }\n",
       "\n",
       "    .dataframe thead th {\n",
       "        text-align: right;\n",
       "    }\n",
       "</style>\n",
       "<table border=\"1\" class=\"dataframe\">\n",
       "  <thead>\n",
       "    <tr style=\"text-align: right;\">\n",
       "      <th></th>\n",
       "      <th>confederation</th>\n",
       "      <th>stadium</th>\n",
       "      <th>city</th>\n",
       "      <th>hometeams</th>\n",
       "      <th>capacity</th>\n",
       "      <th>country</th>\n",
       "      <th>country_code</th>\n",
       "      <th>population</th>\n",
       "    </tr>\n",
       "  </thead>\n",
       "  <tbody>\n",
       "    <tr>\n",
       "      <th>0</th>\n",
       "      <td>CONMEBOL</td>\n",
       "      <td>El Cementario de los Elefantes</td>\n",
       "      <td>Santa Fe</td>\n",
       "      <td>Colón</td>\n",
       "      <td>32000</td>\n",
       "      <td>Argentina</td>\n",
       "      <td>ARG</td>\n",
       "      <td>43847430</td>\n",
       "    </tr>\n",
       "    <tr>\n",
       "      <th>1</th>\n",
       "      <td>CONMEBOL</td>\n",
       "      <td>El Gigante de Arroyito</td>\n",
       "      <td>Rosario</td>\n",
       "      <td>Rosario Central</td>\n",
       "      <td>41654</td>\n",
       "      <td>Argentina</td>\n",
       "      <td>ARG</td>\n",
       "      <td>43847430</td>\n",
       "    </tr>\n",
       "    <tr>\n",
       "      <th>2</th>\n",
       "      <td>CONMEBOL</td>\n",
       "      <td>El Monumental</td>\n",
       "      <td>Buenos Aires</td>\n",
       "      <td>River Plate</td>\n",
       "      <td>61321</td>\n",
       "      <td>Argentina</td>\n",
       "      <td>ARG</td>\n",
       "      <td>43847430</td>\n",
       "    </tr>\n",
       "    <tr>\n",
       "      <th>3</th>\n",
       "      <td>CONMEBOL</td>\n",
       "      <td>El Nuevo Gasómetro</td>\n",
       "      <td>Buenos Aires</td>\n",
       "      <td>San Lorenzo</td>\n",
       "      <td>43494</td>\n",
       "      <td>Argentina</td>\n",
       "      <td>ARG</td>\n",
       "      <td>43847430</td>\n",
       "    </tr>\n",
       "    <tr>\n",
       "      <th>4</th>\n",
       "      <td>CONMEBOL</td>\n",
       "      <td>Estadio Arquitecto Antonio Etcheverri</td>\n",
       "      <td>Buenos Aires</td>\n",
       "      <td>Club Ferro Caril Oeste</td>\n",
       "      <td>22797</td>\n",
       "      <td>Argentina</td>\n",
       "      <td>ARG</td>\n",
       "      <td>43847430</td>\n",
       "    </tr>\n",
       "    <tr>\n",
       "      <th>5</th>\n",
       "      <td>CONMEBOL</td>\n",
       "      <td>Estadio Ciudad de La Plata</td>\n",
       "      <td>La Plata</td>\n",
       "      <td>Estudiantes, Gimnasia</td>\n",
       "      <td>53000</td>\n",
       "      <td>Argentina</td>\n",
       "      <td>ARG</td>\n",
       "      <td>43847430</td>\n",
       "    </tr>\n",
       "    <tr>\n",
       "      <th>6</th>\n",
       "      <td>CONMEBOL</td>\n",
       "      <td>Estadio del Viaducto</td>\n",
       "      <td>Sarandí</td>\n",
       "      <td>Arsenal FC</td>\n",
       "      <td>16300</td>\n",
       "      <td>Argentina</td>\n",
       "      <td>ARG</td>\n",
       "      <td>43847430</td>\n",
       "    </tr>\n",
       "    <tr>\n",
       "      <th>7</th>\n",
       "      <td>CONMEBOL</td>\n",
       "      <td>Estadio Diego Armando Maradona</td>\n",
       "      <td>Buenos Aires</td>\n",
       "      <td>AA Argentinos Juniors</td>\n",
       "      <td>24800</td>\n",
       "      <td>Argentina</td>\n",
       "      <td>ARG</td>\n",
       "      <td>43847430</td>\n",
       "    </tr>\n",
       "    <tr>\n",
       "      <th>8</th>\n",
       "      <td>CONMEBOL</td>\n",
       "      <td>Estadio José Amalfitani</td>\n",
       "      <td>Buenos Aires</td>\n",
       "      <td>Vélez Sarsfield</td>\n",
       "      <td>49540</td>\n",
       "      <td>Argentina</td>\n",
       "      <td>ARG</td>\n",
       "      <td>43847430</td>\n",
       "    </tr>\n",
       "    <tr>\n",
       "      <th>9</th>\n",
       "      <td>CONMEBOL</td>\n",
       "      <td>Estadio Libertadores de America</td>\n",
       "      <td>Avellaneda</td>\n",
       "      <td>Independiente</td>\n",
       "      <td>48069</td>\n",
       "      <td>Argentina</td>\n",
       "      <td>ARG</td>\n",
       "      <td>43847430</td>\n",
       "    </tr>\n",
       "    <tr>\n",
       "      <th>10</th>\n",
       "      <td>CONMEBOL</td>\n",
       "      <td>Estadio Malvinas Argentinas</td>\n",
       "      <td>Mendoza</td>\n",
       "      <td>None</td>\n",
       "      <td>40268</td>\n",
       "      <td>Argentina</td>\n",
       "      <td>ARG</td>\n",
       "      <td>43847430</td>\n",
       "    </tr>\n",
       "    <tr>\n",
       "      <th>11</th>\n",
       "      <td>CONMEBOL</td>\n",
       "      <td>Estadio Marcelo Bielsa</td>\n",
       "      <td>Rosario</td>\n",
       "      <td>Newell's Old Boys</td>\n",
       "      <td>42000</td>\n",
       "      <td>Argentina</td>\n",
       "      <td>ARG</td>\n",
       "      <td>43847430</td>\n",
       "    </tr>\n",
       "    <tr>\n",
       "      <th>12</th>\n",
       "      <td>CONMEBOL</td>\n",
       "      <td>Estadio Mario Alberto Kempes</td>\n",
       "      <td>Cordoba</td>\n",
       "      <td>None</td>\n",
       "      <td>57000</td>\n",
       "      <td>Argentina</td>\n",
       "      <td>ARG</td>\n",
       "      <td>43847430</td>\n",
       "    </tr>\n",
       "    <tr>\n",
       "      <th>13</th>\n",
       "      <td>CONMEBOL</td>\n",
       "      <td>Estadio Néstor Díaz Pérez</td>\n",
       "      <td>Lanús</td>\n",
       "      <td>CA Lanús</td>\n",
       "      <td>46519</td>\n",
       "      <td>Argentina</td>\n",
       "      <td>ARG</td>\n",
       "      <td>43847430</td>\n",
       "    </tr>\n",
       "    <tr>\n",
       "      <th>14</th>\n",
       "      <td>CONMEBOL</td>\n",
       "      <td>Estadio Presidente Perón</td>\n",
       "      <td>Avellaneda</td>\n",
       "      <td>Racing Club</td>\n",
       "      <td>42500</td>\n",
       "      <td>Argentina</td>\n",
       "      <td>ARG</td>\n",
       "      <td>43847430</td>\n",
       "    </tr>\n",
       "    <tr>\n",
       "      <th>15</th>\n",
       "      <td>CONMEBOL</td>\n",
       "      <td>Estadio Tomás Adolfo Ducó</td>\n",
       "      <td>Buenos Aires</td>\n",
       "      <td>Huracán</td>\n",
       "      <td>48314</td>\n",
       "      <td>Argentina</td>\n",
       "      <td>ARG</td>\n",
       "      <td>43847430</td>\n",
       "    </tr>\n",
       "    <tr>\n",
       "      <th>16</th>\n",
       "      <td>CONMEBOL</td>\n",
       "      <td>Estadio Único</td>\n",
       "      <td>Villa Mercedes</td>\n",
       "      <td>None</td>\n",
       "      <td>28000</td>\n",
       "      <td>Argentina</td>\n",
       "      <td>ARG</td>\n",
       "      <td>43847430</td>\n",
       "    </tr>\n",
       "    <tr>\n",
       "      <th>17</th>\n",
       "      <td>CONMEBOL</td>\n",
       "      <td>La Bombonera</td>\n",
       "      <td>Buenos Aires</td>\n",
       "      <td>Boca Juniors</td>\n",
       "      <td>49000</td>\n",
       "      <td>Argentina</td>\n",
       "      <td>ARG</td>\n",
       "      <td>43847430</td>\n",
       "    </tr>\n",
       "  </tbody>\n",
       "</table>\n",
       "</div>"
      ],
      "text/plain": [
       "   confederation                                stadium            city  \\\n",
       "0       CONMEBOL         El Cementario de los Elefantes        Santa Fe   \n",
       "1       CONMEBOL                 El Gigante de Arroyito         Rosario   \n",
       "2       CONMEBOL                          El Monumental    Buenos Aires   \n",
       "3       CONMEBOL                     El Nuevo Gasómetro    Buenos Aires   \n",
       "4       CONMEBOL  Estadio Arquitecto Antonio Etcheverri    Buenos Aires   \n",
       "5       CONMEBOL             Estadio Ciudad de La Plata        La Plata   \n",
       "6       CONMEBOL                   Estadio del Viaducto         Sarandí   \n",
       "7       CONMEBOL         Estadio Diego Armando Maradona    Buenos Aires   \n",
       "8       CONMEBOL                Estadio José Amalfitani    Buenos Aires   \n",
       "9       CONMEBOL        Estadio Libertadores de America      Avellaneda   \n",
       "10      CONMEBOL            Estadio Malvinas Argentinas         Mendoza   \n",
       "11      CONMEBOL                 Estadio Marcelo Bielsa         Rosario   \n",
       "12      CONMEBOL           Estadio Mario Alberto Kempes         Cordoba   \n",
       "13      CONMEBOL              Estadio Néstor Díaz Pérez           Lanús   \n",
       "14      CONMEBOL               Estadio Presidente Perón      Avellaneda   \n",
       "15      CONMEBOL              Estadio Tomás Adolfo Ducó    Buenos Aires   \n",
       "16      CONMEBOL                          Estadio Único  Villa Mercedes   \n",
       "17      CONMEBOL                           La Bombonera    Buenos Aires   \n",
       "\n",
       "                 hometeams  capacity    country country_code  population  \n",
       "0                    Colón     32000  Argentina          ARG    43847430  \n",
       "1          Rosario Central     41654  Argentina          ARG    43847430  \n",
       "2              River Plate     61321  Argentina          ARG    43847430  \n",
       "3              San Lorenzo     43494  Argentina          ARG    43847430  \n",
       "4   Club Ferro Caril Oeste     22797  Argentina          ARG    43847430  \n",
       "5    Estudiantes, Gimnasia     53000  Argentina          ARG    43847430  \n",
       "6               Arsenal FC     16300  Argentina          ARG    43847430  \n",
       "7    AA Argentinos Juniors     24800  Argentina          ARG    43847430  \n",
       "8          Vélez Sarsfield     49540  Argentina          ARG    43847430  \n",
       "9            Independiente     48069  Argentina          ARG    43847430  \n",
       "10                    None     40268  Argentina          ARG    43847430  \n",
       "11       Newell's Old Boys     42000  Argentina          ARG    43847430  \n",
       "12                    None     57000  Argentina          ARG    43847430  \n",
       "13                CA Lanús     46519  Argentina          ARG    43847430  \n",
       "14             Racing Club     42500  Argentina          ARG    43847430  \n",
       "15                 Huracán     48314  Argentina          ARG    43847430  \n",
       "16                    None     28000  Argentina          ARG    43847430  \n",
       "17            Boca Juniors     49000  Argentina          ARG    43847430  "
      ]
     },
     "execution_count": 17,
     "metadata": {},
     "output_type": "execute_result"
    }
   ],
   "source": [
    "df"
   ]
  },
  {
   "cell_type": "code",
   "execution_count": 62,
   "id": "40a7b3bc",
   "metadata": {},
   "outputs": [
    {
     "data": {
      "text/plain": [
       "True"
      ]
     },
     "execution_count": 62,
     "metadata": {},
     "output_type": "execute_result"
    }
   ],
   "source": [
    "cursor.close()"
   ]
  },
  {
   "cell_type": "code",
   "execution_count": 63,
   "id": "e846199b",
   "metadata": {},
   "outputs": [],
   "source": [
    "estadios.close()"
   ]
  },
  {
   "cell_type": "code",
   "execution_count": 65,
   "id": "0f58bee7",
   "metadata": {},
   "outputs": [],
   "source": [
    "!git add primeros_pasos_conexionBBDD.ipynb"
   ]
  },
  {
   "cell_type": "code",
   "execution_count": 66,
   "id": "e958f6bb",
   "metadata": {
    "scrolled": true
   },
   "outputs": [
    {
     "name": "stdout",
     "output_type": "stream",
     "text": [
      "[main ff58876] Cierro cursor y conxiÃ³n.\n",
      " 1 file changed, 45 insertions(+), 19 deletions(-)\n"
     ]
    }
   ],
   "source": [
    "!git commit -m \"Cierro cursor y conexión.\""
   ]
  },
  {
   "cell_type": "code",
   "execution_count": 69,
   "id": "1855ecf0",
   "metadata": {
    "scrolled": true
   },
   "outputs": [
    {
     "name": "stderr",
     "output_type": "stream",
     "text": [
      "To https://github.com/guilleldas/Proyecto_SQL_Python.git\n",
      "   1586418..0d7b4f1  main -> main\n"
     ]
    }
   ],
   "source": [
    "!git push"
   ]
  }
 ],
 "metadata": {
  "kernelspec": {
   "display_name": "Python 3 (ipykernel)",
   "language": "python",
   "name": "python3"
  },
  "language_info": {
   "codemirror_mode": {
    "name": "ipython",
    "version": 3
   },
   "file_extension": ".py",
   "mimetype": "text/x-python",
   "name": "python",
   "nbconvert_exporter": "python",
   "pygments_lexer": "ipython3",
   "version": "3.11.5"
  }
 },
 "nbformat": 4,
 "nbformat_minor": 5
}
