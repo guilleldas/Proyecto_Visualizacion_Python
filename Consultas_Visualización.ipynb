{
 "cells": [
  {
   "cell_type": "markdown",
   "id": "30b92e35",
   "metadata": {},
   "source": [
    "### Consultas y Visualización"
   ]
  },
  {
   "cell_type": "code",
   "execution_count": 17,
   "id": "b94ebd67",
   "metadata": {},
   "outputs": [],
   "source": [
    "import pandas as pd\n",
    "import matplotlib.pyplot as plt\n",
    "\n",
    "import mysql.connector"
   ]
  },
  {
   "cell_type": "code",
   "execution_count": 6,
   "id": "4e453980",
   "metadata": {},
   "outputs": [
    {
     "name": "stdout",
     "output_type": "stream",
     "text": [
      "Conexión establecida correctamente.\n"
     ]
    }
   ],
   "source": [
    "estadios = mysql.connector.connect(host=\"localhost\", user=\"root\", passwd=\"julieta2809\",database=\"estadios\")\n",
    "\n",
    "if estadios.is_connected():\n",
    "    print(\"Conexión establecida correctamente.\")\n",
    "else:\n",
    "    print(\"Problemas con la conexión.\")"
   ]
  },
  {
   "cell_type": "code",
   "execution_count": 7,
   "id": "b75b302c",
   "metadata": {},
   "outputs": [],
   "source": [
    "cursor = estadios.cursor()"
   ]
  },
  {
   "cell_type": "code",
   "execution_count": 12,
   "id": "3ffcea12",
   "metadata": {},
   "outputs": [
    {
     "name": "stdout",
     "output_type": "stream",
     "text": [
      "('UEFA', Decimal('20158727'))\n",
      "('CONCACAF', Decimal('9001050'))\n",
      "('CONMEBOL', Decimal('4223002'))\n"
     ]
    }
   ],
   "source": [
    "cursor.execute(\"SELECT confederation, SUM(capacity) FROM estadios_tres_confederaciones GROUP BY confederation ORDER BY SUM(capacity) DESC\") \n",
    "               \n",
    "capacidad_por_confedereacion = cursor.fetchall()\n",
    "\n",
    "for i in capacidad_por_confedereacion:\n",
    "    print (i)"
   ]
  },
  {
   "cell_type": "code",
   "execution_count": 61,
   "id": "7909de37",
   "metadata": {},
   "outputs": [
    {
     "data": {
      "text/html": [
       "<div>\n",
       "<style scoped>\n",
       "    .dataframe tbody tr th:only-of-type {\n",
       "        vertical-align: middle;\n",
       "    }\n",
       "\n",
       "    .dataframe tbody tr th {\n",
       "        vertical-align: top;\n",
       "    }\n",
       "\n",
       "    .dataframe thead th {\n",
       "        text-align: right;\n",
       "    }\n",
       "</style>\n",
       "<table border=\"1\" class=\"dataframe\">\n",
       "  <thead>\n",
       "    <tr style=\"text-align: right;\">\n",
       "      <th></th>\n",
       "      <th>confederation</th>\n",
       "      <th>SUM(capacity)</th>\n",
       "    </tr>\n",
       "  </thead>\n",
       "  <tbody>\n",
       "    <tr>\n",
       "      <th>0</th>\n",
       "      <td>UEFA</td>\n",
       "      <td>20158727</td>\n",
       "    </tr>\n",
       "    <tr>\n",
       "      <th>1</th>\n",
       "      <td>CONCACAF</td>\n",
       "      <td>9001050</td>\n",
       "    </tr>\n",
       "    <tr>\n",
       "      <th>2</th>\n",
       "      <td>CONMEBOL</td>\n",
       "      <td>4223002</td>\n",
       "    </tr>\n",
       "  </tbody>\n",
       "</table>\n",
       "</div>"
      ],
      "text/plain": [
       "  confederation SUM(capacity)\n",
       "0          UEFA      20158727\n",
       "1      CONCACAF       9001050\n",
       "2      CONMEBOL       4223002"
      ]
     },
     "execution_count": 61,
     "metadata": {},
     "output_type": "execute_result"
    }
   ],
   "source": [
    "capacidad_df = pd.DataFrame(capacidad_por_confedereacion, columns=[i[0] for i in cursor.description])\n",
    "\n",
    "capacidad_df\n",
    "\n"
   ]
  },
  {
   "cell_type": "code",
   "execution_count": 62,
   "id": "6d0b4059",
   "metadata": {},
   "outputs": [],
   "source": [
    "capacidad_df = capacidad_df.set_index(['confederation'])"
   ]
  },
  {
   "cell_type": "code",
   "execution_count": 63,
   "id": "d9916145",
   "metadata": {
    "scrolled": true
   },
   "outputs": [
    {
     "data": {
      "text/html": [
       "<div>\n",
       "<style scoped>\n",
       "    .dataframe tbody tr th:only-of-type {\n",
       "        vertical-align: middle;\n",
       "    }\n",
       "\n",
       "    .dataframe tbody tr th {\n",
       "        vertical-align: top;\n",
       "    }\n",
       "\n",
       "    .dataframe thead th {\n",
       "        text-align: right;\n",
       "    }\n",
       "</style>\n",
       "<table border=\"1\" class=\"dataframe\">\n",
       "  <thead>\n",
       "    <tr style=\"text-align: right;\">\n",
       "      <th></th>\n",
       "      <th>SUM(capacity)</th>\n",
       "    </tr>\n",
       "    <tr>\n",
       "      <th>confederation</th>\n",
       "      <th></th>\n",
       "    </tr>\n",
       "  </thead>\n",
       "  <tbody>\n",
       "    <tr>\n",
       "      <th>UEFA</th>\n",
       "      <td>20158727</td>\n",
       "    </tr>\n",
       "    <tr>\n",
       "      <th>CONCACAF</th>\n",
       "      <td>9001050</td>\n",
       "    </tr>\n",
       "    <tr>\n",
       "      <th>CONMEBOL</th>\n",
       "      <td>4223002</td>\n",
       "    </tr>\n",
       "  </tbody>\n",
       "</table>\n",
       "</div>"
      ],
      "text/plain": [
       "              SUM(capacity)\n",
       "confederation              \n",
       "UEFA               20158727\n",
       "CONCACAF            9001050\n",
       "CONMEBOL            4223002"
      ]
     },
     "execution_count": 63,
     "metadata": {},
     "output_type": "execute_result"
    }
   ],
   "source": [
    "capacidad_df"
   ]
  },
  {
   "cell_type": "code",
   "execution_count": 64,
   "id": "1c850f55",
   "metadata": {},
   "outputs": [
    {
     "data": {
      "image/png": "[encoded data removed]",
      "text/plain": [
       "<Figure size 1000x600 with 1 Axes>"
      ]
     },
     "metadata": {},
     "output_type": "display_data"
    }
   ],
   "source": [
    "plt.figure(figsize=(10, 6))\n",
    "plt.bar(df['confederation'],df['SUM(capacity)'], color='lightgrey')\n",
    "plt.xlabel('Confederación')\n",
    "plt.ylabel('Capacidad Total')\n",
    "plt.title('Capacidad Total de Estadios por Confederación')\n",
    "plt.show()"
   ]
  },
  {
   "cell_type": "code",
   "execution_count": null,
   "id": "9b10c477",
   "metadata": {},
   "outputs": [],
   "source": []
  },
  {
   "cell_type": "code",
   "execution_count": null,
   "id": "55e36681",
   "metadata": {},
   "outputs": [],
   "source": []
  },
  {
   "cell_type": "code",
   "execution_count": null,
   "id": "cda09542",
   "metadata": {},
   "outputs": [],
   "source": []
  },
  {
   "cell_type": "code",
   "execution_count": null,
   "id": "a6069ee2",
   "metadata": {},
   "outputs": [],
   "source": []
  },
  {
   "cell_type": "code",
   "execution_count": null,
   "id": "f7f2d412",
   "metadata": {},
   "outputs": [],
   "source": []
  },
  {
   "cell_type": "code",
   "execution_count": null,
   "id": "e0e848af",
   "metadata": {},
   "outputs": [],
   "source": []
  },
  {
   "cell_type": "code",
   "execution_count": null,
   "id": "177aaccd",
   "metadata": {},
   "outputs": [],
   "source": []
  },
  {
   "cell_type": "code",
   "execution_count": null,
   "id": "d1f68a8c",
   "metadata": {},
   "outputs": [],
   "source": []
  },
  {
   "cell_type": "code",
   "execution_count": null,
   "id": "3d1c5956",
   "metadata": {},
   "outputs": [],
   "source": []
  },
  {
   "cell_type": "code",
   "execution_count": null,
   "id": "95a35402",
   "metadata": {},
   "outputs": [],
   "source": []
  },
  {
   "cell_type": "code",
   "execution_count": 2,
   "id": "f91a98f9",
   "metadata": {},
   "outputs": [],
   "source": [
    "!git add Consultas_Visualización.ipynb"
   ]
  },
  {
   "cell_type": "code",
   "execution_count": 3,
   "id": "3f952869",
   "metadata": {},
   "outputs": [
    {
     "name": "stdout",
     "output_type": "stream",
     "text": [
      "[main a78dcb9] Creo nuevo archivo.\n",
      " 1 file changed, 33 insertions(+)\n",
      " create mode 100644 \"Consultas_Visualizaci\\303\\263n.ipynb\"\n"
     ]
    }
   ],
   "source": [
    "!git commit -m \"Creo nuevo archivo.\""
   ]
  },
  {
   "cell_type": "code",
   "execution_count": 4,
   "id": "b609c538",
   "metadata": {},
   "outputs": [
    {
     "name": "stderr",
     "output_type": "stream",
     "text": [
      "To https://github.com/guilleldas/Proyecto_SQL_Python.git\n",
      "   2f6e40e..a78dcb9  main -> main\n"
     ]
    }
   ],
   "source": [
    "!git push"
   ]
  }
 ],
 "metadata": {
  "kernelspec": {
   "display_name": "Python 3 (ipykernel)",
   "language": "python",
   "name": "python3"
  },
  "language_info": {
   "codemirror_mode": {
    "name": "ipython",
    "version": 3
   },
   "file_extension": ".py",
   "mimetype": "text/x-python",
   "name": "python",
   "nbconvert_exporter": "python",
   "pygments_lexer": "ipython3",
   "version": "3.11.5"
  }
 },
 "nbformat": 4,
 "nbformat_minor": 5
}
